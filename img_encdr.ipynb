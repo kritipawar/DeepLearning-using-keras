{
 "cells": [
  {
   "cell_type": "code",
   "execution_count": 2,
   "metadata": {},
   "outputs": [
    {
     "name": "stderr",
     "output_type": "stream",
     "text": [
      "/home/krithi/anaconda3/lib/python3.6/site-packages/h5py/__init__.py:36: FutureWarning: Conversion of the second argument of issubdtype from `float` to `np.floating` is deprecated. In future, it will be treated as `np.float64 == np.dtype(float).type`.\n",
      "  from ._conv import register_converters as _register_converters\n",
      "Using TensorFlow backend.\n"
     ]
    }
   ],
   "source": [
    "from keras.layers import Input, Dense\n",
    "from keras.models import Model\n",
    "\n",
    "# this is the size of our encoded representations\n",
    "encoding_dim = 32  # 32 floats -> compression of factor 24.5, assuming the input is 784 floats\n",
    "\n",
    "# this is our input placeholder\n",
    "input_img = Input(shape=(784,))\n",
    "# \"encoded\" is the encoded representation of the input\n",
    "encoded = Dense(encoding_dim, activation='relu')(input_img)\n",
    "# \"decoded\" is the lossy reconstruction of the input\n",
    "decoded = Dense(784, activation='sigmoid')(encoded)\n",
    "\n",
    "# this model maps an input to its reconstruction\n",
    "autoencoder = Model(input_img, decoded)"
   ]
  },
  {
   "cell_type": "code",
   "execution_count": 3,
   "metadata": {},
   "outputs": [],
   "source": [
    "# this model maps an input to its encoded representation\n",
    "encoder = Model(input_img, encoded)"
   ]
  },
  {
   "cell_type": "code",
   "execution_count": 4,
   "metadata": {},
   "outputs": [],
   "source": [
    "# create a placeholder for an encoded (32-dimensional) input\n",
    "encoded_input = Input(shape=(encoding_dim,))\n",
    "# retrieve the last layer of the autoencoder model\n",
    "decoder_layer = autoencoder.layers[-1]\n",
    "# create the decoder model\n",
    "decoder = Model(encoded_input, decoder_layer(encoded_input))"
   ]
  },
  {
   "cell_type": "code",
   "execution_count": 5,
   "metadata": {},
   "outputs": [],
   "source": [
    "autoencoder.compile(optimizer='adadelta', loss='binary_crossentropy')"
   ]
  },
  {
   "cell_type": "code",
   "execution_count": 6,
   "metadata": {},
   "outputs": [],
   "source": [
    "from keras.datasets import mnist\n",
    "import numpy as np\n",
    "(x_train, _), (x_test, _) = mnist.load_data()"
   ]
  },
  {
   "cell_type": "code",
   "execution_count": 7,
   "metadata": {},
   "outputs": [
    {
     "name": "stdout",
     "output_type": "stream",
     "text": [
      "(60000, 784)\n",
      "(10000, 784)\n"
     ]
    }
   ],
   "source": [
    "x_train = x_train.astype('float32') / 255.\n",
    "x_test = x_test.astype('float32') / 255.\n",
    "x_train = x_train.reshape((len(x_train), np.prod(x_train.shape[1:])))\n",
    "x_test = x_test.reshape((len(x_test), np.prod(x_test.shape[1:])))\n",
    "print(x_train.shape)\n",
    "print(x_test.shape)"
   ]
  },
  {
   "cell_type": "code",
   "execution_count": 8,
   "metadata": {
    "scrolled": true
   },
   "outputs": [
    {
     "name": "stdout",
     "output_type": "stream",
     "text": [
      "Train on 60000 samples, validate on 10000 samples\n",
      "Epoch 1/50\n",
      "60000/60000 [==============================] - 21s 355us/step - loss: 0.3665 - val_loss: 0.2717\n",
      "Epoch 2/50\n",
      "60000/60000 [==============================] - 20s 340us/step - loss: 0.2646 - val_loss: 0.2543\n",
      "Epoch 3/50\n",
      "60000/60000 [==============================] - 21s 342us/step - loss: 0.2439 - val_loss: 0.2314\n",
      "Epoch 4/50\n",
      "60000/60000 [==============================] - 20s 339us/step - loss: 0.2229 - val_loss: 0.2124\n",
      "Epoch 5/50\n",
      "60000/60000 [==============================] - 21s 348us/step - loss: 0.2071 - val_loss: 0.1992\n",
      "Epoch 6/50\n",
      "60000/60000 [==============================] - 21s 356us/step - loss: 0.1959 - val_loss: 0.1896\n",
      "Epoch 7/50\n",
      "60000/60000 [==============================] - 21s 354us/step - loss: 0.1875 - val_loss: 0.1821\n",
      "Epoch 8/50\n",
      "60000/60000 [==============================] - 21s 345us/step - loss: 0.1805 - val_loss: 0.1758\n",
      "Epoch 9/50\n",
      "60000/60000 [==============================] - 20s 336us/step - loss: 0.1745 - val_loss: 0.1702\n",
      "Epoch 10/50\n",
      "60000/60000 [==============================] - 20s 335us/step - loss: 0.1693 - val_loss: 0.1654\n",
      "Epoch 11/50\n",
      "60000/60000 [==============================] - 21s 349us/step - loss: 0.1646 - val_loss: 0.1610\n",
      "Epoch 12/50\n",
      "60000/60000 [==============================] - 22s 364us/step - loss: 0.1604 - val_loss: 0.1570\n",
      "Epoch 13/50\n",
      "60000/60000 [==============================] - 21s 352us/step - loss: 0.1567 - val_loss: 0.1535\n",
      "Epoch 14/50\n",
      "60000/60000 [==============================] - 21s 348us/step - loss: 0.1532 - val_loss: 0.1500\n",
      "Epoch 15/50\n",
      "60000/60000 [==============================] - 21s 354us/step - loss: 0.1499 - val_loss: 0.1469\n",
      "Epoch 16/50\n",
      "60000/60000 [==============================] - 21s 350us/step - loss: 0.1468 - val_loss: 0.1438\n",
      "Epoch 17/50\n",
      "60000/60000 [==============================] - 22s 359us/step - loss: 0.1440 - val_loss: 0.1411\n",
      "Epoch 18/50\n",
      "60000/60000 [==============================] - 21s 358us/step - loss: 0.1413 - val_loss: 0.1386\n",
      "Epoch 19/50\n",
      "60000/60000 [==============================] - 21s 342us/step - loss: 0.1388 - val_loss: 0.1361\n",
      "Epoch 20/50\n",
      "60000/60000 [==============================] - 21s 352us/step - loss: 0.1365 - val_loss: 0.1339\n",
      "Epoch 21/50\n",
      "60000/60000 [==============================] - 22s 359us/step - loss: 0.1343 - val_loss: 0.1317\n",
      "Epoch 22/50\n",
      "60000/60000 [==============================] - 21s 354us/step - loss: 0.1322 - val_loss: 0.1298\n",
      "Epoch 23/50\n",
      "60000/60000 [==============================] - 21s 353us/step - loss: 0.1303 - val_loss: 0.1277\n",
      "Epoch 24/50\n",
      "60000/60000 [==============================] - 21s 357us/step - loss: 0.1283 - val_loss: 0.1260\n",
      "Epoch 25/50\n",
      "60000/60000 [==============================] - 21s 354us/step - loss: 0.1265 - val_loss: 0.1241\n",
      "Epoch 26/50\n",
      "60000/60000 [==============================] - 21s 347us/step - loss: 0.1247 - val_loss: 0.1224\n",
      "Epoch 27/50\n",
      "60000/60000 [==============================] - 21s 348us/step - loss: 0.1230 - val_loss: 0.1207\n",
      "Epoch 28/50\n",
      "60000/60000 [==============================] - 21s 353us/step - loss: 0.1214 - val_loss: 0.1191\n",
      "Epoch 29/50\n",
      "60000/60000 [==============================] - 21s 355us/step - loss: 0.1198 - val_loss: 0.1175\n",
      "Epoch 30/50\n",
      "60000/60000 [==============================] - 21s 351us/step - loss: 0.1184 - val_loss: 0.1161\n",
      "Epoch 31/50\n",
      "60000/60000 [==============================] - 21s 354us/step - loss: 0.1170 - val_loss: 0.1148\n",
      "Epoch 32/50\n",
      "60000/60000 [==============================] - 22s 360us/step - loss: 0.1157 - val_loss: 0.1135\n",
      "Epoch 33/50\n",
      "60000/60000 [==============================] - 20s 330us/step - loss: 0.1145 - val_loss: 0.1124\n",
      "Epoch 34/50\n",
      "60000/60000 [==============================] - 21s 356us/step - loss: 0.1134 - val_loss: 0.1113\n",
      "Epoch 35/50\n",
      "60000/60000 [==============================] - 21s 348us/step - loss: 0.1123 - val_loss: 0.1103\n",
      "Epoch 36/50\n",
      "60000/60000 [==============================] - 21s 344us/step - loss: 0.1114 - val_loss: 0.1093\n",
      "Epoch 37/50\n",
      "60000/60000 [==============================] - 21s 354us/step - loss: 0.1105 - val_loss: 0.1085\n",
      "Epoch 38/50\n",
      "60000/60000 [==============================] - 21s 356us/step - loss: 0.1097 - val_loss: 0.1077\n",
      "Epoch 39/50\n",
      "60000/60000 [==============================] - 21s 342us/step - loss: 0.1089 - val_loss: 0.1069\n",
      "Epoch 40/50\n",
      "60000/60000 [==============================] - 21s 347us/step - loss: 0.1082 - val_loss: 0.1062\n",
      "Epoch 41/50\n",
      "60000/60000 [==============================] - 22s 361us/step - loss: 0.1075 - val_loss: 0.1056\n",
      "Epoch 42/50\n",
      "60000/60000 [==============================] - 22s 361us/step - loss: 0.1069 - val_loss: 0.1050\n",
      "Epoch 43/50\n",
      "60000/60000 [==============================] - 22s 360us/step - loss: 0.1063 - val_loss: 0.1044\n",
      "Epoch 44/50\n",
      "60000/60000 [==============================] - 21s 349us/step - loss: 0.1058 - val_loss: 0.1040\n",
      "Epoch 45/50\n",
      "60000/60000 [==============================] - 22s 361us/step - loss: 0.1053 - val_loss: 0.1035\n",
      "Epoch 46/50\n",
      "60000/60000 [==============================] - 21s 346us/step - loss: 0.1048 - val_loss: 0.1030\n",
      "Epoch 47/50\n",
      "60000/60000 [==============================] - 21s 342us/step - loss: 0.1044 - val_loss: 0.1026\n",
      "Epoch 48/50\n",
      "60000/60000 [==============================] - 21s 346us/step - loss: 0.1040 - val_loss: 0.1022\n",
      "Epoch 49/50\n",
      "60000/60000 [==============================] - 21s 355us/step - loss: 0.1036 - val_loss: 0.1018\n",
      "Epoch 50/50\n",
      "60000/60000 [==============================] - 21s 344us/step - loss: 0.1032 - val_loss: 0.1015\n"
     ]
    },
    {
     "data": {
      "text/plain": [
       "<keras.callbacks.History at 0x7fa88382eeb8>"
      ]
     },
     "execution_count": 8,
     "metadata": {},
     "output_type": "execute_result"
    }
   ],
   "source": [
    "autoencoder.fit(x_train, x_train,\n",
    "                epochs=50,\n",
    "                batch_size=256,\n",
    "                shuffle=True,\n",
    "                validation_data=(x_test, x_test))"
   ]
  },
  {
   "cell_type": "code",
   "execution_count": 9,
   "metadata": {},
   "outputs": [],
   "source": [
    "# encode and decode some digits\n",
    "# note that we take them from the *test* set\n",
    "encoded_imgs = encoder.predict(x_test)\n",
    "decoded_imgs = decoder.predict(encoded_imgs)\n"
   ]
  },
  {
   "cell_type": "code",
   "execution_count": 11,
   "metadata": {},
   "outputs": [
    {
     "data": {
      "image/png": "[encoded data removed]",
      "text/plain": [
       "<Figure size 1440x288 with 20 Axes>"
      ]
     },
     "metadata": {},
     "output_type": "display_data"
    }
   ],
   "source": [
    "# use Matplotlib (don't ask)\n",
    "import matplotlib.pyplot as plt\n",
    "\n",
    "n = 10  # how many digits we will display\n",
    "plt.figure(figsize=(20, 4))\n",
    "for i in range(n):\n",
    "    # display original\n",
    "    ax = plt.subplot(2, n, i + 1)\n",
    "    plt.imshow(x_test[i].reshape(28, 28))\n",
    "    plt.gray()\n",
    "    ax.get_xaxis().set_visible(False)\n",
    "    ax.get_yaxis().set_visible(False)\n",
    "\n",
    "    # display reconstruction\n",
    "    ax = plt.subplot(2, n, i + 1 + n)\n",
    "    plt.imshow(decoded_imgs[i].reshape(28, 28))\n",
    "    plt.gray()\n",
    "    ax.get_xaxis().set_visible(False)\n",
    "    ax.get_yaxis().set_visible(False)\n",
    "    \n",
    "plt.show()"
   ]
  },
  {
   "cell_type": "code",
   "execution_count": null,
   "metadata": {},
   "outputs": [],
   "source": []
  }
 ],
 "metadata": {
  "kernelspec": {
   "display_name": "Python 3",
   "language": "python",
   "name": "python3"
  },
  "language_info": {
   "codemirror_mode": {
    "name": "ipython",
    "version": 3
   },
   "file_extension": ".py",
   "mimetype": "text/x-python",
   "name": "python",
   "nbconvert_exporter": "python",
   "pygments_lexer": "ipython3",
   "version": "3.6.5"
  }
 },
 "nbformat": 4,
 "nbformat_minor": 2
}
