{
 "cells": [
  {
   "cell_type": "code",
   "execution_count": 155,
   "metadata": {},
   "outputs": [],
   "source": [
    "import keras\n",
    "import numpy as np\n",
    "import matplotlib.pyplot as plt\n",
    "from keras.utils import to_categorical\n",
    "from keras.datasets import mnist\n",
    "from keras import layers\n",
    "from keras import models"
   ]
  },
  {
   "cell_type": "code",
   "execution_count": 156,
   "metadata": {},
   "outputs": [],
   "source": [
    "(train_X, train_Y), (test_X,test_Y) = mnist.load_data()"
   ]
  },
  {
   "cell_type": "markdown",
   "metadata": {},
   "source": [
    "## Prepare Data"
   ]
  },
  {
   "cell_type": "code",
   "execution_count": 157,
   "metadata": {},
   "outputs": [],
   "source": [
    "## Train and Test input Data \n",
    "def data_preparation(train_X,train_Y,test_X,test_Y):\n",
    "    \n",
    "    trainX = train_X.reshape((60000,28*28))\n",
    "    trainX = trainX.astype('float32')/255\n",
    "\n",
    "    testX = test_X.reshape((10000,28*28))\n",
    "    testX = testX.astype('float32')/255\n",
    "    \n",
    "    trainY = to_categorical(train_Y)\n",
    "    testY = to_categorical(test_Y)\n",
    "    \n",
    "    return trainX,trainY,testX,testY\n",
    "\n",
    "\n"
   ]
  },
  {
   "cell_type": "markdown",
   "metadata": {},
   "source": [
    "## Model"
   ]
  },
  {
   "cell_type": "code",
   "execution_count": 158,
   "metadata": {},
   "outputs": [
    {
     "name": "stdout",
     "output_type": "stream",
     "text": [
      "Epoch 1/5\n",
      "60000/60000 [==============================] - 11s 180us/step - loss: 0.2271 - acc: 0.9333\n",
      "Epoch 2/5\n",
      "60000/60000 [==============================] - 11s 175us/step - loss: 0.0948 - acc: 0.9721\n",
      "Epoch 3/5\n",
      "60000/60000 [==============================] - 11s 177us/step - loss: 0.0660 - acc: 0.9807\n",
      "Epoch 4/5\n",
      "60000/60000 [==============================] - 11s 177us/step - loss: 0.0489 - acc: 0.9855\n",
      "Epoch 5/5\n",
      "60000/60000 [==============================] - 11s 177us/step - loss: 0.0384 - acc: 0.9888\n",
      "10000/10000 [==============================] - 1s 89us/step\n",
      "0.9798\n"
     ]
    }
   ],
   "source": [
    "train_X,train_Y,test_X,test_Y = data_preparation(trainX,trainY,testX,testY)\n",
    "\n",
    "model = models.Sequential()\n",
    "model.add(layers.Dense(512, activation = 'relu', input_shape = (28*28,)))\n",
    "#model.add(layers.Dense(32, activation = 'relu'))\n",
    "model.add(layers.Dense(10, activation = 'softmax'))\n",
    "\n",
    "model.compile(optimizer='rmsprop',loss='categorical_crossentropy',metrics=['accuracy'])\n",
    "\n",
    "model.fit(train_X, train_Y, epochs=5, batch_size=64)\n",
    "\n",
    "test_loss, test_acc = model.evaluate(test_X, test_Y)\n",
    "print(test_acc)\n"
   ]
  },
  {
   "cell_type": "code",
   "execution_count": 160,
   "metadata": {},
   "outputs": [],
   "source": [
    "y1 = model.predict(test_X)"
   ]
  },
  {
   "cell_type": "code",
   "execution_count": 161,
   "metadata": {},
   "outputs": [],
   "source": [
    "def show_img(img,r):\n",
    "    # print(img[0])\n",
    "   # r = np.random.randint(0, 60000 - 1)\n",
    "    plt.imshow(img[r].reshape(28, 28), cmap='Greys', interpolation='nearest')\n",
    "    plt.show()"
   ]
  },
  {
   "cell_type": "code",
   "execution_count": 162,
   "metadata": {},
   "outputs": [],
   "source": [
    "def out(y):\n",
    "    x = []\n",
    "    for i in y:\n",
    "        x.append(np.argmax(i,axis=0))\n",
    "    return x\n",
    "\n",
    "   "
   ]
  },
  {
   "cell_type": "code",
   "execution_count": 163,
   "metadata": {},
   "outputs": [],
   "source": [
    "predict_y = out(y1)"
   ]
  },
  {
   "cell_type": "code",
   "execution_count": 168,
   "metadata": {},
   "outputs": [],
   "source": [
    "real_y = out(test_Y)"
   ]
  },
  {
   "cell_type": "code",
   "execution_count": 169,
   "metadata": {},
   "outputs": [],
   "source": [
    "def accuracy(x,y):\n",
    "    count = 0\n",
    "    for i in range(0,len(x)):\n",
    "        if(x[i] == y[i]):\n",
    "            count = count+1\n",
    "        \n",
    "    return (count/len(x))"
   ]
  },
  {
   "cell_type": "code",
   "execution_count": 170,
   "metadata": {},
   "outputs": [],
   "source": [
    "def testing(x,y,z,r):\n",
    "    acc = accuracy(x,y)\n",
    "    \n",
    "    print(\"Test Accuracy is:{}\".format(acc))\n",
    "    print(\"predicted label is:{}\".format(predict_y[r]))\n",
    "    return show_img(z,r)\n",
    "    "
   ]
  },
  {
   "cell_type": "code",
   "execution_count": 174,
   "metadata": {},
   "outputs": [
    {
     "name": "stdout",
     "output_type": "stream",
     "text": [
      "Test Accuracy is:0.9798\n",
      "predicted label is:9\n"
     ]
    },
    {
     "data": {
      "image/png": "[encoded data removed]",
      "text/plain": [
       "<Figure size 432x288 with 1 Axes>"
      ]
     },
     "metadata": {},
     "output_type": "display_data"
    }
   ],
   "source": [
    "testing(real_y,predict_y,test_X,20)"
   ]
  },
  {
   "cell_type": "code",
   "execution_count": null,
   "metadata": {},
   "outputs": [],
   "source": []
  }
 ],
 "metadata": {
  "kernelspec": {
   "display_name": "Python 3",
   "language": "python",
   "name": "python3"
  },
  "language_info": {
   "codemirror_mode": {
    "name": "ipython",
    "version": 3
   },
   "file_extension": ".py",
   "mimetype": "text/x-python",
   "name": "python",
   "nbconvert_exporter": "python",
   "pygments_lexer": "ipython3",
   "version": "3.6.5"
  }
 },
 "nbformat": 4,
 "nbformat_minor": 2
}
