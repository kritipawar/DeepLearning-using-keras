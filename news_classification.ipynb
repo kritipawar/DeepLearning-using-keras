{
 "cells": [
  {
   "cell_type": "code",
   "execution_count": 2,
   "metadata": {},
   "outputs": [
    {
     "data": {
      "text/plain": [
       "'2.2.2'"
      ]
     },
     "execution_count": 2,
     "metadata": {},
     "output_type": "execute_result"
    }
   ],
   "source": [
    "import keras\n",
    "keras.__version__"
   ]
  },
  {
   "cell_type": "code",
   "execution_count": 3,
   "metadata": {},
   "outputs": [],
   "source": [
    "from keras.datasets import reuters\n",
    "from keras import layers\n",
    "from keras import models\n",
    "from keras.utils.np_utils import to_categorical\n",
    "import numpy as np\n",
    "\n",
    "\n",
    "(trainX, trainY), (testX, testY) = reuters.load_data(num_words=10000)"
   ]
  },
  {
   "cell_type": "code",
   "execution_count": 4,
   "metadata": {},
   "outputs": [
    {
     "data": {
      "text/plain": [
       "(8982,)"
      ]
     },
     "execution_count": 4,
     "metadata": {},
     "output_type": "execute_result"
    }
   ],
   "source": [
    "trainX.shape"
   ]
  },
  {
   "cell_type": "code",
   "execution_count": 5,
   "metadata": {},
   "outputs": [
    {
     "data": {
      "text/plain": [
       "(2246,)"
      ]
     },
     "execution_count": 5,
     "metadata": {},
     "output_type": "execute_result"
    }
   ],
   "source": [
    "testX.shape"
   ]
  },
  {
   "cell_type": "code",
   "execution_count": 6,
   "metadata": {},
   "outputs": [
    {
     "data": {
      "text/plain": [
       "(8982,)"
      ]
     },
     "execution_count": 6,
     "metadata": {},
     "output_type": "execute_result"
    }
   ],
   "source": [
    "trainY.shape"
   ]
  },
  {
   "cell_type": "code",
   "execution_count": 7,
   "metadata": {},
   "outputs": [
    {
     "data": {
      "text/plain": [
       "(2246,)"
      ]
     },
     "execution_count": 7,
     "metadata": {},
     "output_type": "execute_result"
    }
   ],
   "source": [
    "testY.shape"
   ]
  },
  {
   "cell_type": "code",
   "execution_count": 8,
   "metadata": {},
   "outputs": [
    {
     "data": {
      "text/plain": [
       "[1,\n",
       " 2,\n",
       " 2,\n",
       " 8,\n",
       " 43,\n",
       " 10,\n",
       " 447,\n",
       " 5,\n",
       " 25,\n",
       " 207,\n",
       " 270,\n",
       " 5,\n",
       " 3095,\n",
       " 111,\n",
       " 16,\n",
       " 369,\n",
       " 186,\n",
       " 90,\n",
       " 67,\n",
       " 7,\n",
       " 89,\n",
       " 5,\n",
       " 19,\n",
       " 102,\n",
       " 6,\n",
       " 19,\n",
       " 124,\n",
       " 15,\n",
       " 90,\n",
       " 67,\n",
       " 84,\n",
       " 22,\n",
       " 482,\n",
       " 26,\n",
       " 7,\n",
       " 48,\n",
       " 4,\n",
       " 49,\n",
       " 8,\n",
       " 864,\n",
       " 39,\n",
       " 209,\n",
       " 154,\n",
       " 6,\n",
       " 151,\n",
       " 6,\n",
       " 83,\n",
       " 11,\n",
       " 15,\n",
       " 22,\n",
       " 155,\n",
       " 11,\n",
       " 15,\n",
       " 7,\n",
       " 48,\n",
       " 9,\n",
       " 4579,\n",
       " 1005,\n",
       " 504,\n",
       " 6,\n",
       " 258,\n",
       " 6,\n",
       " 272,\n",
       " 11,\n",
       " 15,\n",
       " 22,\n",
       " 134,\n",
       " 44,\n",
       " 11,\n",
       " 15,\n",
       " 16,\n",
       " 8,\n",
       " 197,\n",
       " 1245,\n",
       " 90,\n",
       " 67,\n",
       " 52,\n",
       " 29,\n",
       " 209,\n",
       " 30,\n",
       " 32,\n",
       " 132,\n",
       " 6,\n",
       " 109,\n",
       " 15,\n",
       " 17,\n",
       " 12]"
      ]
     },
     "execution_count": 8,
     "metadata": {},
     "output_type": "execute_result"
    }
   ],
   "source": [
    "trainX[0]"
   ]
  },
  {
   "cell_type": "code",
   "execution_count": 9,
   "metadata": {},
   "outputs": [],
   "source": [
    "## decoded \n",
    "word_index = reuters.get_word_index()\n",
    "reverse_word_index = dict([(value, key) for (key, value) in word_index.items()])\n",
    "# Note that our indices were offset by 3\n",
    "# because 0, 1 and 2 are reserved indices for \"padding\", \"start of sequence\", and \"unknown\".\n",
    "decoded_newswire = ' '.join([reverse_word_index.get(i - 3, '?') for i in trainX[0]])"
   ]
  },
  {
   "cell_type": "code",
   "execution_count": 10,
   "metadata": {},
   "outputs": [
    {
     "data": {
      "text/plain": [
       "'? ? ? said as a result of its december acquisition of space co it expects earnings per share in 1987 of 1 15 to 1 30 dlrs per share up from 70 cts in 1986 the company said pretax net should rise to nine to 10 mln dlrs from six mln dlrs in 1986 and rental operation revenues to 19 to 22 mln dlrs from 12 5 mln dlrs it said cash flow per share this year should be 2 50 to three dlrs reuter 3'"
      ]
     },
     "execution_count": 10,
     "metadata": {},
     "output_type": "execute_result"
    }
   ],
   "source": [
    "decoded_newswire"
   ]
  },
  {
   "cell_type": "code",
   "execution_count": 11,
   "metadata": {},
   "outputs": [
    {
     "data": {
      "text/plain": [
       "array([ 0,  1,  2,  3,  4,  5,  6,  7,  8,  9, 10, 11, 12, 13, 14, 15, 16,\n",
       "       17, 18, 19, 20, 21, 22, 23, 24, 25, 26, 27, 28, 29, 30, 31, 32, 33,\n",
       "       34, 35, 36, 37, 38, 39, 40, 41, 42, 43, 44, 45])"
      ]
     },
     "execution_count": 11,
     "metadata": {},
     "output_type": "execute_result"
    }
   ],
   "source": [
    "np.unique(trainY)"
   ]
  },
  {
   "cell_type": "code",
   "execution_count": 12,
   "metadata": {},
   "outputs": [],
   "source": [
    "\n",
    "def vectorize(input1, dimension = 10000):\n",
    "    result = np.zeros((len(input1),dimension),int)  # as we are having 10000 words\n",
    "    for (i,input1) in enumerate(input1):\n",
    "        result[i,input1] = 1\n",
    "    return result\n",
    "\n",
    "train_X = vectorize(trainX)\n",
    "test_X = vectorize(testX)\n",
    "train_Y = to_categorical(trainY)\n",
    "test_Y = to_categorical(testY)"
   ]
  },
  {
   "cell_type": "code",
   "execution_count": null,
   "metadata": {},
   "outputs": [],
   "source": [
    "\n",
    "\n"
   ]
  },
  {
   "cell_type": "markdown",
   "metadata": {},
   "source": [
    "## Model"
   ]
  },
  {
   "cell_type": "code",
   "execution_count": 13,
   "metadata": {},
   "outputs": [
    {
     "name": "stdout",
     "output_type": "stream",
     "text": [
      "Epoch 1/10\n",
      "8982/8982 [==============================] - 3s 279us/step - loss: 2.0298 - acc: 0.5829\n",
      "Epoch 2/10\n",
      "8982/8982 [==============================] - 1s 84us/step - loss: 1.1301 - acc: 0.7524\n",
      "Epoch 3/10\n",
      "8982/8982 [==============================] - 1s 93us/step - loss: 0.8140 - acc: 0.8261\n",
      "Epoch 4/10\n",
      "8982/8982 [==============================] - 1s 85us/step - loss: 0.5967 - acc: 0.8735\n",
      "Epoch 5/10\n",
      "8982/8982 [==============================] - 1s 81us/step - loss: 0.4417 - acc: 0.9074\n",
      "Epoch 6/10\n",
      "8982/8982 [==============================] - 1s 89us/step - loss: 0.3369 - acc: 0.9251\n",
      "Epoch 7/10\n",
      "8982/8982 [==============================] - 1s 83us/step - loss: 0.2711 - acc: 0.9365\n",
      "Epoch 8/10\n",
      "8982/8982 [==============================] - 1s 87us/step - loss: 0.2236 - acc: 0.9458\n",
      "Epoch 9/10\n",
      "8982/8982 [==============================] - 1s 94us/step - loss: 0.1928 - acc: 0.9493\n",
      "Epoch 10/10\n",
      "8982/8982 [==============================] - 1s 86us/step - loss: 0.1749 - acc: 0.9521\n",
      "2246/2246 [==============================] - 0s 101us/step\n",
      "0.786731967996086\n"
     ]
    }
   ],
   "source": [
    "model = models.Sequential()\n",
    "model.add(layers.Dense(64, activation= 'relu', input_shape = (10000,)))\n",
    "model.add(layers.Dense(64, activation='relu'))\n",
    "model.add(layers.Dense(46, activation = 'softmax'))\n",
    "    \n",
    "model.compile(optimizer = 'rmsprop', loss = 'categorical_crossentropy', metrics = ['accuracy'])\n",
    "model.fit(train_X, train_Y, epochs = 10, batch_size = 256)\n",
    "    \n",
    "#result = model.evaluate(test_X,test_Y)\n",
    "y = model.predict(test_X)\n",
    "\n",
    "test_loss, test_acc = model.evaluate(test_X, test_Y)\n",
    "print(test_acc)\n",
    "\n"
   ]
  },
  {
   "cell_type": "code",
   "execution_count": 14,
   "metadata": {},
   "outputs": [],
   "source": [
    "y = model.predict(test_X)"
   ]
  },
  {
   "cell_type": "code",
   "execution_count": 15,
   "metadata": {},
   "outputs": [
    {
     "data": {
      "text/plain": [
       "array([[1.13615704e-06, 1.56745191e-05, 2.83775403e-08, ...,\n",
       "        4.20455507e-07, 1.06252259e-07, 2.12053255e-08],\n",
       "       [5.54303173e-04, 4.01355922e-02, 8.72084183e-06, ...,\n",
       "        3.13254503e-07, 4.96048870e-07, 2.15594264e-06],\n",
       "       [3.66029493e-03, 9.62634623e-01, 1.67682418e-04, ...,\n",
       "        2.40730810e-06, 1.37759516e-05, 1.42670260e-05],\n",
       "       ...,\n",
       "       [4.41894656e-07, 1.21712983e-05, 6.73089815e-08, ...,\n",
       "        9.59337232e-09, 1.27908336e-07, 2.67520583e-09],\n",
       "       [2.18623364e-03, 1.08410895e-01, 4.79652197e-04, ...,\n",
       "        1.31904482e-04, 4.39693540e-05, 1.27766061e-05],\n",
       "       [4.80843650e-04, 4.19759035e-01, 4.76454459e-02, ...,\n",
       "        6.97918995e-06, 4.07854623e-06, 2.90751341e-05]], dtype=float32)"
      ]
     },
     "execution_count": 15,
     "metadata": {},
     "output_type": "execute_result"
    }
   ],
   "source": [
    "y"
   ]
  },
  {
   "cell_type": "code",
   "execution_count": 16,
   "metadata": {},
   "outputs": [],
   "source": [
    "def out(pred_y):\n",
    "    x = []\n",
    "    for i in pred_y:\n",
    "        x.append(np.argmax(i,axis=0))\n",
    "    return x"
   ]
  },
  {
   "cell_type": "code",
   "execution_count": 17,
   "metadata": {},
   "outputs": [],
   "source": [
    "pred_y = out(y)\n",
    "real_y = out(test_Y)"
   ]
  },
  {
   "cell_type": "code",
   "execution_count": 18,
   "metadata": {},
   "outputs": [],
   "source": [
    "def accuracy(x,y):\n",
    "    count = 0\n",
    "    for i in range(0,len(x)):\n",
    "        if(x[i] == y[i]):\n",
    "            count = count+1\n",
    "        \n",
    "    return (count/len(x))"
   ]
  },
  {
   "cell_type": "code",
   "execution_count": 19,
   "metadata": {},
   "outputs": [
    {
     "name": "stdout",
     "output_type": "stream",
     "text": [
      "1215\n",
      "Test Accuracy is:0.7867319679430098\n",
      "predicted label is:3\n",
      "Real Label is :3\n"
     ]
    }
   ],
   "source": [
    "def testing(real_label,predicted_label,test_data):\n",
    "    acc = accuracy(real_label,predicted_label)\n",
    "    \n",
    "    index = np.random.randint(0, 2246 - 1)\n",
    "    print(index)\n",
    "    print(\"Test Accuracy is:{}\".format(acc))\n",
    "    print(\"predicted label is:{}\".format(predicted_label[index]))\n",
    "    print(\"Real Label is :{}\".format(real_label[index]))\n",
    "    #return show_img(z,r)\n",
    "\n",
    "testing(real_y,pred_y,test_X)"
   ]
  },
  {
   "cell_type": "code",
   "execution_count": null,
   "metadata": {},
   "outputs": [],
   "source": []
  },
  {
   "cell_type": "code",
   "execution_count": null,
   "metadata": {},
   "outputs": [],
   "source": []
  },
  {
   "cell_type": "code",
   "execution_count": null,
   "metadata": {},
   "outputs": [],
   "source": []
  }
 ],
 "metadata": {
  "kernelspec": {
   "display_name": "Python 3",
   "language": "python",
   "name": "python3"
  },
  "language_info": {
   "codemirror_mode": {
    "name": "ipython",
    "version": 3
   },
   "file_extension": ".py",
   "mimetype": "text/x-python",
   "name": "python",
   "nbconvert_exporter": "python",
   "pygments_lexer": "ipython3",
   "version": "3.6.5"
  }
 },
 "nbformat": 4,
 "nbformat_minor": 2
}
